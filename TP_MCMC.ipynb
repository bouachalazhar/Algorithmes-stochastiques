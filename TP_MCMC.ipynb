{
 "cells": [
  {
   "cell_type": "markdown",
   "metadata": {},
   "source": [
    "$\\newcommand{\\si}{\\sigma}\n",
    "\\newcommand{\\al}{\\alpha}\n",
    "\\newcommand{\\tta}{\\theta}\n",
    "\\newcommand{\\Tta}{\\Theta}\n",
    "\\newcommand{\\Si}{\\Sigma}\n",
    "\\newcommand{\\ld}{\\ldots}\n",
    "\\newcommand{\\cd}{\\cdots}\n",
    "\\newcommand{\\cN}{\\mathcal{N}}\n",
    "\\newcommand{\\R}{\\mathbb{R}}\n",
    "\\newcommand{\\p}{\\mathbb{P}}\n",
    "\\newcommand{\\f}{\\frac}\n",
    "\\newcommand{\\ff}{\\frac{1}}\n",
    "\\newcommand{\\ds}{\\displaystyle}\n",
    "\\newcommand{\\bE}{\\mathbf{E}}\n",
    "\\newcommand{\\E}{\\mathbb{E}}\n",
    "\\newcommand{\\bF}{\\mathbf{F}}\n",
    "\\newcommand{\\ii}{\\mathrm{i}}\n",
    "\\newcommand{\\me}{\\mathrm{e}}\n",
    "\\newcommand{\\hsi}{\\hat{\\sigma}}\n",
    "\\newcommand{\\hmu}{\\hat{\\mu}}\n",
    "\\newcommand{\\ste}{\\, ;\\, }\n",
    "\\newcommand{\\op}{\\operatorname} \n",
    "\\newcommand{\\argmax}{\\op{argmax}}\n",
    "\\newcommand{\\lfl}{\\lfloor}\n",
    "\\newcommand{\\ri}{\\right}\n",
    "\\newcommand{\\supp}{\\operatorname{supp}}\n",
    "$\n",
    "# TP Introduction MCMC\n",
    "\n",
    "On commence par importer les librairies qui nous serons utiles dans le TP."
   ]
  },
  {
   "cell_type": "code",
   "execution_count": 1,
   "metadata": {},
   "outputs": [],
   "source": [
    "import numpy as np\n",
    "import scipy.stats as sps\n",
    "import matplotlib.pyplot as plt\n",
    "from time import time"
   ]
  },
  {
   "cell_type": "code",
   "execution_count": 2,
   "metadata": {},
   "outputs": [],
   "source": [
    "from TP_MCMC import *"
   ]
  },
  {
   "cell_type": "markdown",
   "metadata": {},
   "source": [
    "## Metropolis-Hasting versus rejet\n",
    "\n",
    "### Rappel sur l'algorithme de rejet\n",
    "Soit $f$ la densité sous laquelle on cherche à  simuler, appelée *densité cible*. On considère une autre densité $g$ (par rapport à  $\\mu$), appelée *densité de proposition*, telle que:\n",
    "- il est aisé de simuler suivant $g$,\n",
    "- il existe une constante $M$ telle que $f(x)\\leq M g(x)$ pour tout $x$ (ce qui implique que $M\\ge 1$ et $\\supp (f) \\subset \\supp(g)$). \n",
    "\n",
    "On peut alors générer   un échantillon suivant l'algorithme suivant:\n",
    "\n",
    "**Algorithme de rejet de simulation de $X$ de densité $f$**\n",
    "1. Générer $X$ suivant la densité $g$.\n",
    "2. Générer $U$ suivant une loi $\\mathcal{U}([0,M])$\n",
    "3. Accepter  la valeur $X$ si $U\\le \\frac{f(X)}{ g(X)}$, sinon, recommencer.\n",
    "\n",
    "### Algorithme de Metropolis Hasting\n",
    "\n",
    "On a par ailleurs vu en cours l'algorithme de Metropolis-Hasting.\n",
    "Soit   $f$ une densité de probabilité sur $\\R^d$. Posons $\\supp_{>}(f):= {\\{x\\ste f(x)> 0\\}}$.\n",
    "\n",
    "**Algorithme de Metropolis-Hastings de simulation de $X$ de densité $\\approx f$**\n",
    "\n",
    "1. Choisir un noyau de transition $Q$ irréductible apériodique sur  $\\supp_{>}(f)$.\n",
    "2. Choisir $x\\in \\supp_{>}(f)$.\n",
    "3. Répéter un grand nombre de fois :\n",
    "    + tirer, indépendamment, $Y\\sim Q(x,\\cdot)$ et $U\\sim\\mathcal{U}([0,1])$,\n",
    "    + remplacer $x$ par $Y$ si $U <\\rho(x,Y)$ et le laisser invariant sinon, où $$\\rho(x,y):= \\f{f(y)Q(x,y)}{f(x)Q(y,x)}.$$\n",
    "4. Retourner $X:=x$.\n",
    "\n",
    "Remarque : on a vu en cours que $\\rho$ devait plutôt s'écrire $\\min(1,\\f{f(y)Q(x,y)}{f(x)Q(y,x)})$, mais comme dans l'algorithme on va utiliser $\\rho$ uniquement dans l'étape 2 de l'algorithme et que $U$ est toujours inférieur à 1, on peut se contenter de choisir $\\rho$ comme plus haut.\n",
    "\n",
    "### Exercice\n",
    "Le but ici est de générer des échantillons selon la loi sur $\\R$ de densité :\n",
    "$$\\pi_\\al(x) =\\ff{\\sqrt{2\\pi}} \\me^{-x^2/2}(1 + \\sin(\\al x))\\,$$\n",
    "où $\\al>0$ (on pourra prendre $\\al=2$)."
   ]
  },
  {
   "cell_type": "markdown",
   "metadata": {},
   "source": [
    "**Question 1** : Tracer la densité $\\pi_\\al$ pour plusieurs valeurs de $\\al$.  "
   ]
  },
  {
   "cell_type": "code",
   "execution_count": 3,
   "metadata": {},
   "outputs": [],
   "source": [
    "def f(x, a):\n",
    "    return sps.norm.pdf(x, 0, 1)*(1+np.sin(a*x))"
   ]
  },
  {
   "cell_type": "code",
   "execution_count": 4,
   "metadata": {},
   "outputs": [
    {
     "data": {
      "image/png": "[encoded data removed]",
      "text/plain": [
       "<Figure size 432x288 with 1 Axes>"
      ]
     },
     "metadata": {
      "needs_background": "light"
     },
     "output_type": "display_data"
    }
   ],
   "source": [
    "x = np.linspace(-5, 5, int(1e4))\n",
    "\n",
    "plt.figure()\n",
    "x = np.linspace(-5,5,int(1e4))\n",
    "for alpha in [1,2,5]:\n",
    "    y = f(x, alpha)\n",
    "    plt.plot(x, y, label='alpha = %s'%alpha)\n",
    "plt.title(\"Density\")\n",
    "plt.legend()\n",
    "plt.show()"
   ]
  },
  {
   "cell_type": "markdown",
   "metadata": {},
   "source": [
    "**Question 2** :   Simuler un échantillon de taille $n=1000$ de vaiid de   loi de densité $\\pi_\\al$ via  la méthode de Metropolis Hasting avec une loi de proposition $Q(x,.)=\\cN(x,\\si^2)$ (pour $\\si=1$ par exemple). On mesurera le temps T que prend la simulation avec la commande `time()` de la librairie `time`."
   ]
  },
  {
   "cell_type": "code",
   "execution_count": 5,
   "metadata": {},
   "outputs": [],
   "source": [
    "def HM(Nsteps, sigma, alpha):\n",
    "    Q = lambda mu, y: sps.norm.pdf(y, loc = mu, scale = sigma)\n",
    "    x = np.random.randn()\n",
    "    for ni in range(Nsteps):\n",
    "        Y = x + np.random.randn()\n",
    "        U = np.random.rand()\n",
    "        rho = (f(Y, alpha)*Q(x,Y))/(f(x, alpha)*Q(Y,x))\n",
    "        if U < rho:\n",
    "            x = Y\n",
    "    X = np.array(x)\n",
    "    return X"
   ]
  },
  {
   "cell_type": "code",
   "execution_count": 6,
   "metadata": {},
   "outputs": [
    {
     "name": "stdout",
     "output_type": "stream",
     "text": [
      "\n",
      "Estimation de la moyenne : 0.2503058348985348\n",
      "\n",
      "Erreur sur l'estimation de la moyenne : 0.06054174432461927\n",
      "\n",
      "Temps nécessaire pour tirer 1000 echantillons: 11.037163972854614\n"
     ]
    }
   ],
   "source": [
    "Nsteps = 20\n",
    "sigma = 1\n",
    "alpha = 2\n",
    "\n",
    "# On echantillonne 1000 fois avec la fonction HM (à écrire)\n",
    "n=int(1e3)\n",
    "Ech=[]        \n",
    "t = time()   \n",
    "for i in range(n):\n",
    "    Ech.append(HM(Nsteps, sigma, alpha))\n",
    "tempsHM=time()-t\n",
    "\n",
    "# Estimation de l'espérance de la loi, \n",
    "mHM=np.mean(Ech)\n",
    "eHM=1.96*np.std(Ech)/np.sqrt(n)\n",
    "print(\"\\nEstimation de la moyenne : \"+str(mHM))\n",
    "print(\"\\nErreur sur l'estimation de la moyenne : \"+str(eHM))\n",
    "print(\"\\nTemps nécessaire pour tirer 1000 echantillons: \"+str(tempsHM))"
   ]
  },
  {
   "cell_type": "code",
   "execution_count": 7,
   "metadata": {},
   "outputs": [
    {
     "data": {
      "image/png": "[encoded data removed]",
      "text/plain": [
       "<Figure size 432x288 with 1 Axes>"
      ]
     },
     "metadata": {
      "needs_background": "light"
     },
     "output_type": "display_data"
    }
   ],
   "source": [
    "# affichage de l'histogramme des echantillons\n",
    "\n",
    "alpha = 2\n",
    "plt.figure()\n",
    "x = np.linspace(-5,5,int(1e4))\n",
    "y = f(x, alpha)\n",
    "plt.plot(x, y,\"r\")\n",
    "plt.hist(np.array(Ech), bins=100,density=1, histtype=\"step\")\n",
    "plt.title(\"HM sample\")\n",
    "plt.show()"
   ]
  },
  {
   "cell_type": "markdown",
   "metadata": {},
   "source": [
    "**Question 3** : Simuler ensuite, en dédiant à la tâche le même temps T que pour la simulation précédente,  un échantillon par méthode de rejet (on notera que $\\pi_\\al(x)\\le 2g(x)$ pour $g$ la densité de $\\cN(0,1)$). \n",
    "\n",
    "**Question4** : Comparer les histogrammes et afficher le rapport entre les tailles des deux échantillons ainsi simulés. Quelle méthode permet de simuler le plus grand échantillon pendant le temps T ? \n",
    "\n",
    "**Question 5** :   Calculer ensuite la valeur théorique de l'espérance ainsi que sa valeur empirique calculée grâce aux deux méthodes."
   ]
  },
  {
   "cell_type": "code",
   "execution_count": 8,
   "metadata": {},
   "outputs": [],
   "source": [
    "def Rejet(a):\n",
    "    sinus = lambda x: 1+np.sin(a*x)\n",
    "    X = np.random.randn()\n",
    "    U = 2*np.random.rand()\n",
    "    while U > sinus(X):\n",
    "        X = np.random.randn()\n",
    "        U = 2*np.random.rand()\n",
    "    return X"
   ]
  },
  {
   "cell_type": "code",
   "execution_count": 9,
   "metadata": {},
   "outputs": [
    {
     "name": "stdout",
     "output_type": "stream",
     "text": [
      "Rapport nombre d'iterations Rejet / HM pour le même temps de calcul : 1791.468\n"
     ]
    }
   ],
   "source": [
    "# Echantillonnage pendant le même temps que pour HM\n",
    "Ech=[]  \n",
    "t = time()  \n",
    "while time()-t<tempsHM:\n",
    "    Ech.append(Rejet(alpha))\n",
    "    \n",
    "m=len(Ech)    \n",
    "\n",
    "print(\"Rapport nombre d'iterations Rejet / HM pour le même temps de calcul : \"+str(m/float(n)))"
   ]
  },
  {
   "cell_type": "code",
   "execution_count": 10,
   "metadata": {},
   "outputs": [
    {
     "data": {
      "image/png": "[encoded data removed]",
      "text/plain": [
       "<Figure size 432x288 with 1 Axes>"
      ]
     },
     "metadata": {
      "needs_background": "light"
     },
     "output_type": "display_data"
    },
    {
     "name": "stdout",
     "output_type": "stream",
     "text": [
      "\n",
      "Estimation la moyenne :\n",
      "Valeur reelle : 2.707e-01\n",
      "Methode rejet : 2.704e-01 +/-1.408e-03\n",
      "Methode HM : 2.503e-01 +/-6.054e-02\n"
     ]
    }
   ],
   "source": [
    "# Affichage de l'histogramme\n",
    "plt.figure()\n",
    "x=np.linspace(-5,5,int(1e4))\n",
    "y=f(x,alpha)\n",
    "plt.plot(x,y,\"r\")\n",
    "plt.hist(Ech, bins=100,density=1, histtype=\"step\")\n",
    "plt.title(\"Reject sample\")\n",
    "plt.show()\n",
    "\n",
    "# estimation de la moyenne\n",
    "mR=np.mean(Ech)\n",
    "eR=1.96*np.std(Ech)/np.sqrt(m)\n",
    "mT = alpha*np.exp(-.5*alpha**2)\n",
    "print(\"\\nEstimation la moyenne :\")\n",
    "print(\"Valeur reelle : %.3e\" % mT)\n",
    "print(\"Methode rejet : %.3e +/-%.3e\" % (mR,eR))\n",
    "print(\"Methode HM : %.3e +/-%.3e\" % (mHM,eHM))"
   ]
  }
 ],
 "metadata": {
  "kernelspec": {
   "display_name": "Python 3 (ipykernel)",
   "language": "python",
   "name": "python3"
  },
  "language_info": {
   "codemirror_mode": {
    "name": "ipython",
    "version": 3
   },
   "file_extension": ".py",
   "mimetype": "text/x-python",
   "name": "python",
   "nbconvert_exporter": "python",
   "pygments_lexer": "ipython3",
   "version": "3.7.11"
  }
 },
 "nbformat": 4,
 "nbformat_minor": 2
}
