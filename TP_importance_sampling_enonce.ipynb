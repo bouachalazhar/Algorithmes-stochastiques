{
 "cells": [
  {
   "cell_type": "markdown",
   "metadata": {},
   "source": [
    "$\\newcommand{\\si}{\\sigma}\n",
    "\\newcommand{\\al}{\\alpha}\n",
    "\\newcommand{\\tta}{\\theta}\n",
    "\\newcommand{\\Tta}{\\Theta}\n",
    "\\newcommand{\\Si}{\\Sigma}\n",
    "\\newcommand{\\ld}{\\ldots}\n",
    "\\newcommand{\\cd}{\\cdots}\n",
    "\\newcommand{\\Ga}{\\Gamma} \n",
    "\\newcommand{\\bet}{\\beta}\n",
    "\\newcommand{\\cU}{\\mathcal{U}}\n",
    "\\newcommand{\\cN}{\\mathcal{N}}\n",
    "\\newcommand{\\R}{\\mathbb{R}}\n",
    "\\newcommand{\\p}{\\mathbb{P}}\n",
    "\\newcommand{\\f}{\\frac}\n",
    "\\newcommand{\\ff}{\\frac{1}}\n",
    "\\newcommand{\\ds}{\\displaystyle}\n",
    "\\newcommand{\\bE}{\\mathbf{E}}\n",
    "\\newcommand{\\E}{\\mathbb{E}}\n",
    "\\newcommand{\\bF}{\\mathbf{F}}\n",
    "\\newcommand{\\ii}{\\mathrm{i}}\n",
    "\\newcommand{\\me}{\\mathrm{e}}\n",
    "\\newcommand{\\hsi}{\\hat{\\sigma}}\n",
    "\\newcommand{\\hmu}{\\hat{\\mu}}\n",
    "\\newcommand{\\ste}{\\, ;\\, }\n",
    "\\newcommand{\\op}{\\operatorname} \n",
    "\\newcommand{\\argmax}{\\op{argmax}}\n",
    "\\newcommand{\\lfl}{\\lfloor}\n",
    "\\newcommand{\\ri}{\\right}\n",
    "\\newcommand{\\supp}{\\operatorname{supp}}$\n",
    "\n",
    "# Echantillonnage préférentiel (*importance sampling*)\n",
    "\n",
    "\n",
    "## Exercice 1\n",
    "\n",
    "On souhaite calculer numériquement l'intégrale \n",
    "$$\\int_0^{10} e^{-2|x-5|}dx.$$\n",
    "Une première manière de faire est d'écrire cette intégrale comme \n",
    "$$10\\E[g(X)]$$\n",
    "avec $g(x) = e^{-2|x-5|}$ et avec $X$ de loi uniforme sur $[0,10]$. \n",
    "\n",
    "1. Utilisez la méthode de Monte-Carlo pour approcher l'intégrale précédente : tirez $N$ réalisations indépendantes $x_1\\dots x_N$ d'une loi uniforme sur $[0,10]$ et l'approximation est donnée par \n",
    "$$10 \\frac 1 N \\sum_{i=1}^N e^{-2|x_i-5|}.$$"
   ]
  },
  {
   "cell_type": "code",
   "execution_count": 1,
   "metadata": {},
   "outputs": [],
   "source": [
    "import numpy as np\n",
    "import matplotlib.pyplot as plt\n",
    "import time"
   ]
  },
  {
   "cell_type": "code",
   "execution_count": 2,
   "metadata": {},
   "outputs": [
    {
     "data": {
      "text/plain": [
       "[<matplotlib.lines.Line2D at 0x7fb26e4b8890>]"
      ]
     },
     "execution_count": 2,
     "metadata": {},
     "output_type": "execute_result"
    },
    {
     "data": {
      "image/png": "[encoded data removed]",
      "text/plain": [
       "<Figure size 432x288 with 1 Axes>"
      ]
     },
     "metadata": {
      "needs_background": "light"
     },
     "output_type": "display_data"
    }
   ],
   "source": [
    "x = np.linspace(1,10,100)\n",
    "def g(x):\n",
    "    return np.exp(-2*np.abs(x-5))\n",
    "plt.plot(x,g(x))"
   ]
  },
  {
   "cell_type": "code",
   "execution_count": 3,
   "metadata": {},
   "outputs": [],
   "source": [
    "def monte_carlo(N, cp):\n",
    "    Xi = 10*np.random.uniform(size = N)\n",
    "    Xn = 10*np.mean(g(Xi))\n",
    "    sigma = np.std(10*g(Xi))\n",
    "    erreur = (sigma*cp)/np.sqrt(N)\n",
    "    print(\"\\nEstimation de 10E[g(X)] : \"+str(Xn))\n",
    "    print(\"\\nMarge d'erreur à \"+str(round(100*p))+\"% : \"+str(erreur))\n",
    "    return Xn, sigma, erreur"
   ]
  },
  {
   "cell_type": "code",
   "execution_count": 4,
   "metadata": {},
   "outputs": [
    {
     "name": "stdout",
     "output_type": "stream",
     "text": [
      "\n",
      "Estimation de 10E[g(X)] : 0.9177023485178298\n",
      "\n",
      "Marge d'erreur à 99% : 0.15270693077961692\n"
     ]
    }
   ],
   "source": [
    "N = int(1e3)\n",
    "cp = np.random.choice([1.65, 1.96, 2.58])\n",
    "if cp == 1.65:\n",
    "    p = 0.9\n",
    "elif cp == 1.96:\n",
    "    p = 0.95\n",
    "elif cp == 2.58:\n",
    "    p = 0.99\n",
    "    \n",
    "m1, sigma1, erreur1 = monte_carlo(N, cp)"
   ]
  },
  {
   "cell_type": "markdown",
   "metadata": {},
   "source": [
    "Cependant, la fonction $g$ atteint son maximum en $x=5$ et décroît\n",
    "rapidement après, il est\n",
    "donc sans doute plus malin d'utiliser une fonction d'échantillonnage\n",
    "préférentiel gaussienne $f_Y$ centrée en 5 et de variance 1 (par exemple). On réécrit donc  \n",
    "$$\\int_0^{10} e^{-2|x-5|}dx = \\int \\mathbf{1}_{[0,10]}(x)\n",
    "\\frac{e^{-2|x-5|}}{\\frac{1}{\\sqrt{2\\pi}}e^{-(x-5)^2/2}}\\frac{1}{\\sqrt{2\\pi}}e^{-(x-5)^2/2}dx\n",
    "= \\E[\\frac{g(Y)}{f_Y(Y)}  \\mathbf{1}_{[0,10]}(Y)],$$\n",
    "avec $f_Y(x) = \\frac 1 {\\sqrt{2\\pi} }e^{-(x-5)^2/2} $ et $Y$ de loi gaussienne $\\mathcal{N}(5,1)$.\n",
    "\n",
    "Pour calculer l'intégrale précédente, on tire donc $N$ réalisations indépendantes $x_1\\dots x_N$ d'une loi $\\mathcal{N}(5,1)$ et l'approximation est donnée par \n",
    "$$ \\frac 1 N \\sum_{i=1}^N \\sqrt{2\\pi}e^{+(y_i-5)^2/2}e^{-2|y_i-5|} \\times \\mathbf{1}_{[0,10]}(y_i).$$\n",
    "\n",
    "2. Utilisez cette nouvelle approche pour calculer l'intégrale et comparer les variances et vitesses de convergence des deux approches. "
   ]
  },
  {
   "cell_type": "code",
   "execution_count": 5,
   "metadata": {},
   "outputs": [],
   "source": [
    "def monte_carlo2(N, cp):\n",
    "    Yi = 5 + np.random.randn(N)\n",
    "    gf = lambda x: (np.sqrt(2*np.pi) * np.exp((1/2)*(x-5)**2) * g(x))*(0 <= x)*(x <= 10)\n",
    "    Xn = np.mean(gf(Yi))\n",
    "    sigma = np.std(gf(Yi))\n",
    "    erreur = (sigma*cp)/np.sqrt(N)\n",
    "    print(\"\\nEstimation de E[g(Y)/fY(Y)] : \"+str(Xn))\n",
    "    print(\"\\nMarge d'erreur à \"+str(round(100*p))+\"% : \"+str(erreur))\n",
    "    return Xn, sigma, erreur"
   ]
  },
  {
   "cell_type": "code",
   "execution_count": 6,
   "metadata": {},
   "outputs": [
    {
     "name": "stdout",
     "output_type": "stream",
     "text": [
      "\n",
      "Estimation de E[g(Y)/fY(Y)] : 0.9710131766145205\n",
      "\n",
      "Marge d'erreur à 99% : 0.04696055396071784\n"
     ]
    }
   ],
   "source": [
    "N = int(1e3)\n",
    "m2, sigma2, erreur2 = monte_carlo2(N, cp)"
   ]
  },
  {
   "cell_type": "code",
   "execution_count": 7,
   "metadata": {},
   "outputs": [
    {
     "name": "stdout",
     "output_type": "stream",
     "text": [
      "\n",
      "Estimation de 10E[g(X)] : 0.9998313212103788\n",
      "\n",
      "Marge d'erreur à 99% : 0.005154849245736838\n",
      "\n",
      "Estimation de E[g(Y)/fY(Y)] : 1.0005498283740328\n",
      "\n",
      "Marge d'erreur à 99% : 0.0015433941702137765\n",
      "\n",
      "Variance de la 1ère méthode: 3.992018320154085 \n",
      "Variance de la 2nde méthode: 0.3578609405459215\n",
      "\n",
      "Vitesse de convergence de la 1ère méthode: 0.08904790878295898\n",
      "Vitesse de convergence de la 2nde méthode: 0.14403820037841797\n"
     ]
    }
   ],
   "source": [
    "N = int(1e6)\n",
    "t0 = time.time()\n",
    "m1, sigma1, erreur1 = monte_carlo(N, cp)\n",
    "t1 = time.time() - t0\n",
    "\n",
    "t2 = time.time()\n",
    "m2, sigma2, erreur2 = monte_carlo2(N, cp)\n",
    "t3 = time.time() - t2\n",
    "\n",
    "print(\"\\nVariance de la 1ère méthode: \"+str(sigma1**2)+\" \\nVariance de la 2nde méthode: \"+str(sigma2**2))\n",
    "print(\"\\nVitesse de convergence de la 1ère méthode: \"+str(t1)+\"\\nVitesse de convergence de la 2nde méthode: \"+str(t3))"
   ]
  },
  {
   "cell_type": "markdown",
   "metadata": {},
   "source": [
    "## Exercice 2\n",
    "\n",
    "On souhaite calculer \n",
    "$$\\int_{-\\infty}^{+\\infty} x^2 \\frac 1 2 e^{-|x|}dx,$$\n",
    "mais on ne sait pas échantillonner suivant la densité $p(x) = \\frac 1 2 e^{-|x|}dx$.\n",
    "\n",
    "Réécrire cette intégrale à l'aide d'une fonction d'échantillonnage préférentiel gaussienne de $\\cN(0,4)$ et estimer sa valeur par une méthode de MOnte-Carlo. "
   ]
  },
  {
   "cell_type": "markdown",
   "metadata": {},
   "source": [
    "Une fonction d'échantillonnage préférentiel gaussienne $f_Y$ centrée et de variance 4. On réécrit donc  \n",
    "$$\\int_{-\\infty}^{+\\infty} x^2 \\frac{1}{2}e^{-|x|}dx = \\int \\mathbf{1}_{\\mathbb{R}}(x) x^2\n",
    "\\frac{1}{2.\\frac{1}{2\\sqrt{2\\pi}}e^{-(x)^2/8}}e^{-|x|}\\frac{1}{2\\sqrt{2\\pi}}e^{-(x)^2/8}dx\n",
    "= \\E[\\frac{g(Y)}{f_Y(Y)}  \\mathbf{1}_{\\mathbb{R}}(Y)],$$\n",
    "avec $f_Y(x) = \\frac 1 {2\\sqrt{2\\pi} }e^{-(x)^2/8} $ et $Y$ de loi gaussienne $\\mathcal{N}(0,4)$.\n",
    "\n",
    "Pour calculer l'intégrale précédente, on tire donc $N$ réalisations indépendantes $x_1\\dots x_N$ d'une loi $\\mathcal{N}(0,4)$ et l'approximation est donnée par \n",
    "$$ \\frac 1 N \\sum_{i=1}^N \\sqrt{2\\pi}x^2e^{(y_i)^2/8}e^{-|y_i|} \\times \\mathbf{1}_{\\mathbb{R}}(y_i).$$\n",
    "\n",
    "2. Utilisez cette nouvelle approche pour calculer l'intégrale et comparer les variances et vitesses de convergence des deux approches. "
   ]
  },
  {
   "cell_type": "code",
   "execution_count": 8,
   "metadata": {},
   "outputs": [],
   "source": [
    "def monte_carlo3(N, cp):\n",
    "    Yi = 2*np.random.randn(N)\n",
    "    densite_p = lambda x : np.sqrt(2*np.pi)* x**2 *np.exp((1/8)*(x)**2)*np.exp(-np.abs(x))\n",
    "    Xn = np.mean(densite_p(Yi))\n",
    "    sigma = np.std(densite_p(Yi))\n",
    "    erreur = (sigma*cp)/np.sqrt(N)\n",
    "    print(\"\\nEstimation de E[p(Y)/fY(Y)] : \"+str(Xn))\n",
    "    print(\"\\nMarge d'erreur à \"+str(round(100*p))+\"% : \"+str(erreur))\n",
    "    return Xn, sigma, erreur"
   ]
  },
  {
   "cell_type": "code",
   "execution_count": 9,
   "metadata": {},
   "outputs": [
    {
     "name": "stdout",
     "output_type": "stream",
     "text": [
      "\n",
      "Estimation de E[p(Y)/fY(Y)] : 2.0096462731219997\n",
      "\n",
      "Marge d'erreur à 99% : 0.020672926401995077\n"
     ]
    }
   ],
   "source": [
    "N = int(1e6)\n",
    "m3, sigma3, erreur3 = monte_carlo3(N, cp)"
   ]
  }
 ],
 "metadata": {
  "kernelspec": {
   "display_name": "Python 3 (ipykernel)",
   "language": "python",
   "name": "python3"
  },
  "language_info": {
   "codemirror_mode": {
    "name": "ipython",
    "version": 3
   },
   "file_extension": ".py",
   "mimetype": "text/x-python",
   "name": "python",
   "nbconvert_exporter": "python",
   "pygments_lexer": "ipython3",
   "version": "3.7.11"
  }
 },
 "nbformat": 4,
 "nbformat_minor": 2
}
