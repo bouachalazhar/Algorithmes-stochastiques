{
 "cells": [
  {
   "cell_type": "markdown",
   "metadata": {},
   "source": [
    "# Partie numérique"
   ]
  },
  {
   "cell_type": "code",
   "execution_count": 1,
   "metadata": {},
   "outputs": [],
   "source": [
    "import numpy as np"
   ]
  },
  {
   "cell_type": "code",
   "execution_count": 3,
   "metadata": {},
   "outputs": [],
   "source": [
    "def EM(X, I , seuil):\n",
    "    N, M = X.shape\n",
    "    t = np.zeros((1, M))\n",
    "    for m in range(M):\n",
    "        t[0,m] = np.sum(2*X[:,m]-1) > 0\n",
    "    for iter in range(I):\n",
    "        theta = np.mean(X*t+(1-X)*(1-t), axis = 1) # étape M        \n",
    "        for m in range(M):\n",
    "            A = np.sum(X[:,m]*np.log(theta) + (1-X[:,m])*np.log(1-theta))\n",
    "            B = np.sum((1-X[:,m])*np.log(theta) + X[:,m]*np.log(1-theta))\n",
    "            t[0,m] = np.exp(A - np.log(np.exp(A) + np.exp(B))) # étape E\n",
    "    t = 1.0*(t > seuil)\n",
    "    return theta, t"
   ]
  },
  {
   "cell_type": "code",
   "execution_count": 4,
   "metadata": {},
   "outputs": [
    {
     "name": "stdout",
     "output_type": "stream",
     "text": [
      "Pourcentage de réponses justes après 1 itération : 73.7%\n",
      "Pourcentage de réponses justes après 10 itérations : 100.0%\n",
      "Pourcentage de réponses justes après 1 itération : 87.1%\n",
      "Pourcentage de réponses justes après 10 itérations : 100.0%\n",
      "Pourcentage de réponses justes après 1 itération : 80.4%\n",
      "Pourcentage de réponses justes après 10 itérations : 100.0%\n",
      "Pourcentage de réponses justes après 1 itération : 68.30000000000001%\n",
      "Pourcentage de réponses justes après 10 itérations : 100.0%\n",
      "Pourcentage de réponses justes après 1 itération : 63.3%\n",
      "Pourcentage de réponses justes après 10 itérations : 100.0%\n",
      "Pourcentage de réponses justes après 1 itération : 76.1%\n",
      "Pourcentage de réponses justes après 10 itérations : 100.0%\n"
     ]
    }
   ],
   "source": [
    "I = [1, 10]\n",
    "seuil = 0.5\n",
    "# vérification des résultats\n",
    "X = [x, x2, x3, x4, x5, x6]       # réponses des étudiants, matrice de taille N x M (N étudiants et M questions)\n",
    "t0 = [t, t2, t3, t4, t5, t6]      # vraies réponses aux questions\n",
    "for xi, ti in zip(X, t0):\n",
    "    theta, t1 = EM(xi, I[0], seuil)      # t = réponses estimées par l'algorithme après 1 itération\n",
    "    print('Pourcentage de réponses justes après 1 itération :', str(100*np.mean(ti == t1).round(3)) +'%')\n",
    "    theta, t1 = EM(xi, I[1], seuil)      # t = réponses estimées par l'algorithme après 10 itérations\n",
    "    print('Pourcentage de réponses justes après 10 itérations :', str(100*np.mean(ti == t1).round(3)) +'%')"
   ]
  }
 ],
 "metadata": {
  "kernelspec": {
   "display_name": "Python 3 (ipykernel)",
   "language": "python",
   "name": "python3"
  },
  "language_info": {
   "codemirror_mode": {
    "name": "ipython",
    "version": 3
   },
   "file_extension": ".py",
   "mimetype": "text/x-python",
   "name": "python",
   "nbconvert_exporter": "python",
   "pygments_lexer": "ipython3",
   "version": "3.7.11"
  }
 },
 "nbformat": 4,
 "nbformat_minor": 2
}
