{
 "cells": [
  {
   "cell_type": "markdown",
   "metadata": {},
   "source": [
    "# TP Algorithmes Stochastiques, SEM, N-SEM, EM"
   ]
  },
  {
   "cell_type": "code",
   "execution_count": 1,
   "metadata": {},
   "outputs": [],
   "source": [
    "import numpy as np\n",
    "import matplotlib.pyplot as plt\n",
    "import scipy.stats as sps\n",
    "%matplotlib inline"
   ]
  },
  {
   "cell_type": "code",
   "execution_count": 2,
   "metadata": {},
   "outputs": [],
   "source": [
    "from TP_SEM_EM import *"
   ]
  },
  {
   "cell_type": "markdown",
   "metadata": {},
   "source": [
    "$\\newcommand{\\si}{\\sigma}\n",
    "\\newcommand{\\al}{\\alpha}\n",
    "\\newcommand{\\tta}{\\theta}\n",
    "\\newcommand{\\Tta}{\\Theta}\n",
    "\\newcommand{\\Si}{\\Sigma}\n",
    "\\newcommand{\\ld}{\\ldots}\n",
    "\\newcommand{\\cd}{\\cdots}\n",
    "\\newcommand{\\cN}{\\mathcal{N}}\n",
    "\\newcommand{\\R}{\\mathbb{R}}\n",
    "\\newcommand{\\p}{\\mathbb{P}}\n",
    "\\newcommand{\\f}{\\frac}\n",
    "\\newcommand{\\ff}{\\frac{1}}\n",
    "\\newcommand{\\ds}{\\displaystyle}\n",
    "\\newcommand{\\bE}{\\mathbf{E}}\n",
    "\\newcommand{\\bF}{\\mathbf{F}}\n",
    "\\newcommand{\\ii}{\\mathrm{i}}\n",
    "\\newcommand{\\me}{\\mathrm{e}}\n",
    "\\newcommand{\\hsi}{\\hat{\\sigma}}\n",
    "\\newcommand{\\hmu}{\\hat{\\mu}}\n",
    "\\newcommand{\\ste}{\\, ;\\, }\n",
    "\\newcommand{\\op}{\\operatorname} \n",
    "\\newcommand{\\argmax}{\\op{argmax}}\n",
    "\\newcommand{\\lfl}{\\lfloor}\n",
    "\\newcommand{\\ri}{\\right}\n",
    "$\n",
    "\n",
    "\n",
    "## Rappels de cours\n",
    "### Mélange de gaussiennes\n",
    "On rappelle qu'une mixture gaussienne a une densité de la forme \n",
    "$$x\\mapsto \\sum_{k=1}^K\\alpha_kf_{\\mu_k,\\sigma_k}(x)=\\sum_{k=1}^K\\alpha_k\\frac{1}{\\sqrt{2\\pi \\sigma_k^2}}\\mathrm{e}^{-\\frac{(x-\\mu_k)^2}{2\\sigma_k^2}}.$$\n",
    "\n",
    "On commence par définir une fonction qui permet d'évaluer la densité théorique d'un mélange de gaussiennes sur une grille x. "
   ]
  },
  {
   "cell_type": "code",
   "execution_count": 3,
   "metadata": {},
   "outputs": [],
   "source": [
    "# Calcul de la densité théorique d'un GMM sur une grille x                               \n",
    "def densite_theorique(K,mu,sigma,alpha,x):\n",
    "    y=np.zeros(len(x))\n",
    "    for j in range(K):\n",
    "        y+=alpha[j]*sps.norm.pdf(x,loc=mu[j],scale=sigma[j])\n",
    "    return y"
   ]
  },
  {
   "cell_type": "markdown",
   "metadata": {},
   "source": [
    "### Simulation des données\n",
    "\n",
    "Pour simuler une mixture gaussienne, on commence par fixer $K\\geq 1$, et par choisir un paramètre $\\theta:=(\\alpha_k,\\mu_k,\\sigma_k)_{1\\le k\\le K}$, avec $\\mu_1, \\ldots, \\mu_K\\in \\R$, $\\sigma_1, \\ldots, \\sigma_K>0$ et $\\alpha_1, \\ldots, \\al_K>0$ tels que $\\al_1+\\cd+\\al_K=1$. On \n",
    "tire au hasard des données $(z_1,x_1), \\ld,(z_n,x_n\n",
    ")$, copies indépendantes du vecteur aléatoire $(Z,X)$ de loi $\\p_\\theta$ donnée par :\n",
    "- $Z\\in \\{1, \\ld, K\\}$ de loi $(\\al_1, \\ld, \\al_K)$,\n",
    "- pour tout $k\\in \\{1, \\ld, K\\}$, conditionellement à $Z=k$, $X\\sim \\cN(\\mu_k, \\si_k^2)$. \n",
    "\n",
    "Notons que le passage de $X$ à $Z$ se fait avec la formule de Bayes :  pour tout    $x\\in \\R$ et $k\\in \\{1, \\ld, K\\}$,    \n",
    "$$\\label{eq:Oleron1}\\p_\\theta(Z=k | X=x)\\;=\\;\\f{\\al_kf_{\\mu_k,\\si_k}(x)}{\\sum_{l=1}^K\\al_lf_{\\mu_l,\\si_l}(x)}.$$ \n",
    "avec $$f_{\\mu,\\si}(x):=\\ff{\\sqrt{2\\pi}\\si}\\me^{-\\f{(x-\\mu)^2}{2\\si^2}}.$$\n",
    "\n",
    "Les algorithmes  SEM, $N$-SEM, EM ont pour but d'estimer les paramètres $\\mu_1, \\ld, \\mu_K\\in \\R$, $\\si_1, \\ld, \\si_K>0$ et $\\al_1, \\ld, \\al_K>0$  ainsi que les valeurs des $z_i$ par la seule observation des $x_i$. \n",
    "\n",
    "<span style=\"color:blue\">1. Ecrire une fonction `echantillon(K,alpha,mu,sigma,n)` permettant de simuler $n$ réalisations indépendantes d'une telle loi. $K$ est le nombre de gaussiennes, *alpha* le vecteur des paramètres du mélange, *mu* les moyennes et *sigma* les écart-types (ce sont donc des listes de $K$ élements). La fonction doit renvoyer à la fois les Z_i et les X_i, par exemple sous forme de deux listes. Essayer de coder cette fonction SANS BOUCLE FOR.</span>\n",
    "\n",
    "<span style=\"color:blue\">2. Tester cette fonction avec K=3, alpha=(.4,.3,.3), mu=(-4,4,0), sigma=(1,1,1) et n = 1000 et tracer sur le même graphe l'histogramme des réalisations ainsi obtenues et le mélange correspondant.</span>"
   ]
  },
  {
   "cell_type": "code",
   "execution_count": 4,
   "metadata": {},
   "outputs": [],
   "source": [
    "def echantillonFOR(K,alpha,mu,sigma,n):\n",
    "    X = []\n",
    "    Z = np.random.choice(range(1, K), p = alpha,size = n)\n",
    "    for i in range(n):\n",
    "        mm, ss = mu[Z[i]],sigma[Z[i]]\n",
    "        X.append(mm+ss*np.random.randn())\n",
    "    return Z, np.asarray(X)"
   ]
  },
  {
   "cell_type": "code",
   "execution_count": 5,
   "metadata": {},
   "outputs": [],
   "source": [
    "def echantillon(K,alpha,mu,sigma,n):\n",
    "    X = []\n",
    "    Z = np.random.choice(range(K), p = alpha,size = n)\n",
    "    X = mu[Z]+sigma[Z]*np.random.randn(n)\n",
    "    #X = np.random.normal(mu[Z], sigma[Z], n)\n",
    "    return Z, np.asarray(X)"
   ]
  },
  {
   "cell_type": "code",
   "execution_count": 6,
   "metadata": {},
   "outputs": [
    {
     "data": {
      "text/plain": [
       "[<matplotlib.lines.Line2D at 0x7f86b2693050>]"
      ]
     },
     "execution_count": 6,
     "metadata": {},
     "output_type": "execute_result"
    },
    {
     "data": {
      "image/png": "[encoded data removed]",
      "text/plain": [
       "<Figure size 432x288 with 1 Axes>"
      ]
     },
     "metadata": {
      "needs_background": "light"
     },
     "output_type": "display_data"
    }
   ],
   "source": [
    "# Simulation des Données    \n",
    "K = 3\n",
    "alpha_real=np.array([.4,.3,.3])\n",
    "mu_real=np.array([-4,4,0])\n",
    "sigma_real=np.array([1,1,1])\n",
    "n=10**3\n",
    "x=np.linspace(-8,8,n)\n",
    "\n",
    "Z, X = echantillon(K, alpha_real, mu_real, sigma_real,n)\n",
    "\n",
    "plt.hist(X, bins = round(3*n**(.3)),density=1,histtype=\"step\",color = 'b')   # remplacer density par normed si matplotlib <2.2\n",
    "\n",
    "y=densite_theorique(K,mu_real,sigma_real,alpha_real,x)\n",
    "plt.plot(x,y,\"r\")"
   ]
  },
  {
   "cell_type": "markdown",
   "metadata": {},
   "source": [
    "### Estimation des paramètres dans le cas où l'on connaît les $z_i$\n",
    "  L'estimateur du Maximum de Vraisemblance (EMV), étant données les observations $(z_i,x_i)_{1\\le i\\le n}$, fournit les estimations suivantes pour le paramètre $\\tta=(\\al_k,\\mu_k,\\si_k)_{1\\le k\\le K}$:  pour tout $k=1,\\ld, K$,  \n",
    " $$\\widehat{\\al}_k=\\f{|\\{i\\ste z_i=k\\}|}{n},$$ \n",
    " $$\\widehat{\\mu}_k=\\ff{n\\widehat{\\al}_k}\\sum_{i\\ste z_i=k} x_i,$$   \n",
    " $$\\widehat{\\si}^2_k=\\ff{n\\widehat{\\al}_k}\\sum_{i\\ste z_i=k} (x_i-\\widehat{\\mu}_k)^2.$$\n",
    " \n",
    "<span style=\"color:blue\"> 3. Ecrire une fonction *estimation(K,Z,X)* qui calcule l'EMV dans le cas où l'on connait les  $(z_i,x_i)_{1\\le i\\le n}$. Cette fonction doit retourner les trois listes de taille K (alpha,mu,sigma). Appliquer cette fonction aux réalisations de la question précédente et comparer les valeurs estimées avec les valeurs réelles du mélange.</span>"
   ]
  },
  {
   "cell_type": "code",
   "execution_count": 7,
   "metadata": {},
   "outputs": [],
   "source": [
    "def estimation(K,Z,X):\n",
    "    alpha, mu, sigma = [], [], []\n",
    "    for k in range(K):\n",
    "        Xk = X[Z==k]\n",
    "        n = len(X)\n",
    "        l = len(Xk)\n",
    "        alpha.append(l/n)\n",
    "        if l != 0:\n",
    "            mu.append(np.mean(Xk))\n",
    "            sigma.append(np.std(Xk))\n",
    "        else:\n",
    "            mu.append(0)\n",
    "            sigma.append(0)\n",
    "    return alpha, mu, sigma"
   ]
  },
  {
   "cell_type": "code",
   "execution_count": 8,
   "metadata": {
    "scrolled": true
   },
   "outputs": [
    {
     "name": "stdout",
     "output_type": "stream",
     "text": [
      "\n",
      "Vrai alpha et alpha estimé :\n",
      "[0.4 0.3 0.3] [0.433, 0.289, 0.278]\n",
      "\n",
      "Vrai mu et mu estimé :\n",
      "[-4  4  0] [-3.983  4.036 -0.052]\n",
      "\n",
      "Vrai sigma et sigma estimé :\n",
      "[1 1 1] [0.969 1.007 0.955]\n"
     ]
    }
   ],
   "source": [
    "(alpha_estime,mu_estime,sigma_estime) = estimation(K,Z,X)\n",
    "\n",
    "print(\"\\nVrai alpha et alpha estimé :\")\n",
    "print(alpha_real,alpha_estime)\n",
    "\n",
    "print(\"\\nVrai mu et mu estimé :\")\n",
    "print(mu_real,np.around(mu_estime,decimals=3))\n",
    "\n",
    "print(\"\\nVrai sigma et sigma estimé :\")\n",
    "print(sigma_real,np.around(sigma_estime,decimals=3))\n"
   ]
  },
  {
   "cell_type": "markdown",
   "metadata": {},
   "source": [
    "\n",
    "## Algorithmes\n",
    "\n",
    "Dans la suite de ce TP, on souhaite appliquer les algorithmes SEM, N-SEM et EM aux données $x_1, \\ld, x_n$ pour estimer $\\tta$. Estimer alors les $z_i$ : pour tout $i$, on choisit $$z_i:=\\argmax_k \\p_\\theta(Z=k | X=x_i).$$\n",
    "Comparer alors les valeurs de $\\tta$ ainsi que des $z_i$ à leurs vraies valeurs.\n",
    "\n",
    "### Algorithme SEM\n",
    "- initialisation arbitraire des classes $z_i\\in \\{1,\\ldots,K\\}$\n",
    "- répéter un grand nombre de fois:\n",
    "    - a) calculer $\\widehat{\\theta}$\n",
    "    - b) pour tout $i=1,\\ldots,n$, tirer la valeur de $z_i$ selon la loi  $$\\mathbb{P}_{\\widehat\\theta}(Z_i=\\bullet | X_i=x_i)$$ \n",
    "\n",
    "<span style=\"color:blue\"> 4. Ecrire une fonction `SEM(nbpas,K,x)` qui implémente l'algorithme précédent avec L étapes. Appliquer cette fonction aux réalisations de la question précédente et comparer les valeurs estimées avec les valeurs réelles du mélange.</span>"
   ]
  },
  {
   "cell_type": "code",
   "execution_count": 9,
   "metadata": {},
   "outputs": [],
   "source": [
    "def SEM(L,K,X):\n",
    "    #n=float(len(x))\n",
    "    #x=np.array(x)\n",
    "    Z = np.random.choice(range(K), size = len(X)) # initialisation aléatoire sur z\n",
    "    for l in range(L):                # boucle principale\n",
    "        alpha_est,mu_est,sigma_est = estimation(K,Z,X)\n",
    "        Z = []\n",
    "        for Xi in X:                   #Expectation\n",
    "            Pzx = alpha_est*sps.norm.pdf([Xi]*K, loc = mu_est, scale = sigma_est)\n",
    "            Z.append(np.random.choice(range(K), p = Pzx/np.sum(Pzx), size = 1)[0])\n",
    "        Z = np.array(Z)\n",
    "    return (alpha_est,mu_est,sigma_est)"
   ]
  },
  {
   "cell_type": "code",
   "execution_count": 10,
   "metadata": {},
   "outputs": [
    {
     "name": "stdout",
     "output_type": "stream",
     "text": [
      "\n",
      "SEM :\n"
     ]
    }
   ],
   "source": [
    "L = 10**2\n",
    "print(\"\\nSEM :\")\n",
    "alpha_est, mu_est, sigma_est = 0,0,0\n",
    "(alpha_est,mu_est,sigma_est) = SEM(L,K,X)"
   ]
  },
  {
   "cell_type": "code",
   "execution_count": 11,
   "metadata": {},
   "outputs": [
    {
     "name": "stdout",
     "output_type": "stream",
     "text": [
      "\n",
      "Vrai alpha et alpha estimé :\n",
      "[0.4 0.3 0.3] [0.433, 0.285, 0.282]\n",
      "\n",
      "Vrai mu et mu estimé :\n",
      "[-4  4  0] [-3.978  4.064 -0.03 ]\n",
      "\n",
      "Vrai sigma et sigma estimé :\n",
      "[1 1 1] [0.977 0.977 1.006]\n"
     ]
    }
   ],
   "source": [
    "print(\"\\nVrai alpha et alpha estimé :\")\n",
    "print(alpha_real,alpha_est)\n",
    "\n",
    "print(\"\\nVrai mu et mu estimé :\")\n",
    "print(mu_real,np.around(mu_est,decimals=3))\n",
    "\n",
    "print(\"\\nVrai sigma et sigma estimé :\")\n",
    "print(sigma_real,np.around(sigma_est,decimals=3))"
   ]
  },
  {
   "cell_type": "markdown",
   "metadata": {},
   "source": [
    "### Algorithme SEM à $N$ tirages\n",
    "- dupliquer $N$ fois le jeu d'observations $(x_1, \\ld, x_n)$, qui devient donc $(x_{i}^{(j)})_{1\\le i\\le n,\\, 1\\le j\\le N}$\n",
    "- appliquer SEM à ce jeu de données étendu \n",
    "\n",
    "<span style=\"color:blue\">5. Ecrire une fonction `NSEM(N,L,K,x)` qui implémente l'algorithme précédent. Appliquer cette fonction aux réalisations de la question précédente et comparer les valeurs estimées avec les valeurs réelles du mélange.</span>"
   ]
  },
  {
   "cell_type": "code",
   "execution_count": 12,
   "metadata": {},
   "outputs": [],
   "source": [
    "def NSEM(N,L,K,X):\n",
    "    return SEM(L,K,np.asarray(X.tolist()*N))"
   ]
  },
  {
   "cell_type": "code",
   "execution_count": 13,
   "metadata": {},
   "outputs": [
    {
     "name": "stdout",
     "output_type": "stream",
     "text": [
      "\n",
      "N-SEM :\n"
     ]
    }
   ],
   "source": [
    "L = 100\n",
    "N = 10\n",
    "print(\"\\nN-SEM :\")\n",
    "(alpha_est,mu_est,sigma_est) = NSEM(N,L,K,X)       "
   ]
  },
  {
   "cell_type": "code",
   "execution_count": 14,
   "metadata": {},
   "outputs": [
    {
     "name": "stdout",
     "output_type": "stream",
     "text": [
      "\n",
      "Vrai alpha et alpha estimé :\n",
      "[0.4 0.3 0.3] [0.2858, 0.4347, 0.2795]\n",
      "\n",
      "Vrai mu et mu estimé :\n",
      "[-4  4  0] [ 4.057 -3.972 -0.02 ]\n",
      "\n",
      "Vrai sigma et sigma estimé :\n",
      "[1 1 1] [0.992 0.98  0.982]\n"
     ]
    }
   ],
   "source": [
    "print(\"\\nVrai alpha et alpha estimé :\")\n",
    "print(alpha_real,alpha_est)\n",
    "\n",
    "print(\"\\nVrai mu et mu estimé :\")\n",
    "print(mu_real,np.around(mu_est,decimals=3))\n",
    "\n",
    "print(\"\\nVrai sigma et sigma estimé :\")\n",
    "print(sigma_real,np.around(sigma_est,decimals=3))"
   ]
  },
  {
   "cell_type": "markdown",
   "metadata": {},
   "source": [
    "### Algorithme EM\n",
    "- initialisation arbitraire du paramètre $\\theta_0$, \n",
    "- étant donné le paramètre $\\theta_t$, répéter pour $t=0,1,2,\\dots$ et jusqu'à convergence\n",
    "    - Calcul de la matrice \n",
    "    $$\\left[\\p_{\\tta_{t}}(Z=k | X=x_i)\\right]_{1\\le i\\le n, \\, 1\\le k\\le K}=\\left[\\f{\\al_k^tf_{\\mu_k^t,\\si^t_k}(x_i)}{\\sum_{l=1}^K\\al_l^tf_{\\mu_l^t,\\si_l^t}(x_i)}\\right]_{1\\le i\\le n, \\, 1\\le k\\le K}$$ \n",
    "    - Calcul de $\\tta_{t+1}$ : pour tout $k=1,\\ld,K$, \n",
    "    $$\\al_k^{t+1}=\\ff n\\sum_{i=1}^n \\p_{\\tta_{t}}(Z=k | X=x_i),$$\n",
    " $$\\mu_k^{t+1}=\\ff{n\\al_k^{t+1}}\\sum_{i=1}^n \\p_{\\tta_{t}}(Z=k | X=x_i)x_i,$$\n",
    " $$(\\si_k^{t+1})^2=\\ff{n\\al_k^{t+1}}\\sum_{i=1}^n \\p_{\\tta_{t}}(Z=k | X=x_i)(x_i-\\mu_k^{t+1})^2.$$\n",
    " \n",
    "<span style=\"color:blue\">6. Ecrire une fonction `EM(L,K,x)` qui implémente l'algorithme précédent. Appliquer cette fonction aux réalisations de la question précédente et comparer les valeurs estimées avec les valeurs réelles du mélange.</span>"
   ]
  },
  {
   "cell_type": "code",
   "execution_count": 15,
   "metadata": {},
   "outputs": [],
   "source": [
    "def EM(L, K, X):\n",
    "    n = len(X)\n",
    "    alpha = np.random.rand(K)\n",
    "    alpha /= np.sum(alpha)\n",
    "    m = np.mean(X)\n",
    "    s = np.std(X)\n",
    "    mu = m + s*np.random.randn(K)\n",
    "    sigma = [s]*K\n",
    "    for l in range(L):\n",
    "        Pzx = []\n",
    "        for Xi in X:\n",
    "            pzx = alpha*sps.norm.pdf([Xi]*K, loc = mu, scale = sigma)\n",
    "            Pzx.append(pzx/np.sum(pzx))\n",
    "        Pzx = np.array(Pzx)\n",
    "        alpha = np.mean(Pzx, axis = 0)\n",
    "        for k in range(K):\n",
    "            mu[k] = np.average(X, weights = Pzx[:,k])\n",
    "            sigma[k] = np.average(np.square(X-mu[k]), weights = Pzx[:,k]) \n",
    "    return (alpha, mu, sigma)"
   ]
  },
  {
   "cell_type": "code",
   "execution_count": 16,
   "metadata": {},
   "outputs": [
    {
     "name": "stdout",
     "output_type": "stream",
     "text": [
      "\n",
      "EM :\n"
     ]
    }
   ],
   "source": [
    "print(\"\\nEM :\")\n",
    "L = 10**2   \n",
    "(alpha_est,mu_est,sigma_est) = EM(L,K,X)    "
   ]
  },
  {
   "cell_type": "code",
   "execution_count": 17,
   "metadata": {},
   "outputs": [
    {
     "name": "stdout",
     "output_type": "stream",
     "text": [
      "\n",
      "Vrai alpha et alpha estimé :\n",
      "[0.4 0.3 0.3] [0.23632734 0.62601955 0.13765311]\n",
      "\n",
      "Vrai mu et mu estimé :\n",
      "[-4  4  0] [-0.573 -0.573 -0.573]\n",
      "\n",
      "Vrai sigma et sigma estimé :\n",
      "[1 1 1] [12.203 12.203 12.203]\n"
     ]
    }
   ],
   "source": [
    "print(\"\\nVrai alpha et alpha estimé :\")\n",
    "print(alpha_real,alpha_est)\n",
    "\n",
    "print(\"\\nVrai mu et mu estimé :\")\n",
    "print(mu_real,np.around(mu_est,decimals=3))\n",
    "\n",
    "print(\"\\nVrai sigma et sigma estimé :\")\n",
    "print(sigma_real,np.around(sigma_est,decimals=3))  "
   ]
  },
  {
   "cell_type": "markdown",
   "metadata": {},
   "source": [
    "## EM en dimension supérieure"
   ]
  },
  {
   "cell_type": "markdown",
   "metadata": {},
   "source": [
    "On se place cette fois en dimension deux. Chaque gaussienne du mélange est déterminée par sa moyenne (un vecteur de $\\R^2$ et sa matrice de covariance (une matrice $2\\times 2$).\n",
    "\n",
    "<span style=\"color:blue\">7. Ecrire une nouvelle fonction `échantillon2d` permettant d'échantillonner $n$ fois le mélange de gaussiennes de dimension 2 ayant les caractéristiques suivantes : </span>\n",
    "- K=3\n",
    "- alpha=(.5,.3,.2)\n",
    "- les 3 gaussiennes ont les moyennes $\\mu_1=(-5,-5)$, $\\mu_2 = (5,5)$, $\\mu_3=(0,0)$. On pourra rassembler ces moyennes dans une liste $mu=[[-5,-5],[5,5],[0,0]]$\n",
    "- les 3 gaussiennes ont la même covariance $$\\begin{pmatrix} 1 & 0.5 \\\\ 0.5 & 1\\end{pmatrix}.$$ \n",
    "\n",
    "<span style=\"color:blue\">8. Appliquer la fonction précédentes pour réaliser une liste $X$ constituée de $n$ observations du mélange (donc $X$ est une liste de vecteurs de dimension 2).</span>\n",
    "\n",
    "<span style=\"color:blue\">9. Ecrire une nouvelle fonction `EM2d` permettant d'estimer les paramètres du mélange à partir des observations $X$ et comparer le résultat obtenu avec les paramètres réels du mélange.</span>"
   ]
  },
  {
   "cell_type": "code",
   "execution_count": 18,
   "metadata": {},
   "outputs": [],
   "source": [
    "def échantillon2d(K, alpha, mu, covariance, n):\n",
    "    X = []\n",
    "    Z = np.random.choice(range(K), p = alpha, size = n)\n",
    "    for i in range(n):\n",
    "        X.append(np.random.multivariate_normal(mu[Z[i]], covariance[Z[i]], 1)[0])\n",
    "    return Z, np.asarray(X)"
   ]
  },
  {
   "cell_type": "code",
   "execution_count": 19,
   "metadata": {},
   "outputs": [],
   "source": [
    "def EM2d(K,L,X):\n",
    "    X = np.array(X)\n",
    "    n = len(X)\n",
    "    alpha = np.random.rand(K)\n",
    "    alpha /= np.sum(alpha)\n",
    "    G = np.cov(X.T)\n",
    "    m0 = np.mean(X, axis = 0)\n",
    "    mu = []\n",
    "    Gx = [G]*K\n",
    "    for k in range(K):\n",
    "        mu.append(np.random.multivariate_normal(m0, G, 1)[0])\n",
    "    for l in range(L):\n",
    "        Pzx = []\n",
    "        for Xi in X:\n",
    "            pzx = np.array([alpha[k]*sps.multivariate_normal.pdf(Xi, mean = mu[k], cov = Gx[k]) for k in range(K)])\n",
    "            Pzx.append(pzx/np.sum(pzx))\n",
    "        Pzx = np.array(Pzx)\n",
    "        alpha = np.mean(Pzx, axis = 0)\n",
    "        for k in range(K):\n",
    "            mu[k] = np.average(X, axis = 0, weights = Pzx[:,k])\n",
    "            Gx[k] = np.cov(X.T, aweights = Pzx[:,k]) \n",
    "    return (alpha, mu, Gx)"
   ]
  },
  {
   "cell_type": "code",
   "execution_count": 20,
   "metadata": {},
   "outputs": [],
   "source": [
    "d=2\n",
    "K=3\n",
    "alpha=[.5,.3,.2]\n",
    "mu=[[-5,-5],[5,5],[0,0]]\n",
    "covariance=[np.array([[1,.5],[.5,1]])]*K\n",
    "n=int(5e2)\n",
    "L=100\n",
    "\n",
    "(z0,x0)=echantillon2d(K,alpha,mu,covariance,n) \n",
    "(alpha_em,mu_em,covariance_em)=EM2d(K,L,x0)"
   ]
  },
  {
   "cell_type": "code",
   "execution_count": 21,
   "metadata": {},
   "outputs": [
    {
     "name": "stdout",
     "output_type": "stream",
     "text": [
      "\n",
      "Estimation de alpha :\n",
      "\n",
      "[0.30400099 0.22006617 0.47593284]\n",
      "\n",
      "Estimation de mu \n",
      "\n",
      "Classe 0 :\n",
      "[4.94874094 4.98000765]\n",
      "\n",
      "Classe 1 :\n",
      "[-0.12467543 -0.17562357]\n",
      "\n",
      "Classe 2 :\n",
      "[-5.03064016 -5.08008411]\n",
      "\n",
      "Estimation de la covariance :\n",
      "\n",
      "Classe 0 :\n",
      "[[0.79834327 0.36286053]\n",
      " [0.36286053 0.7638625 ]]\n",
      "\n",
      "Classe 1 :\n",
      "[[0.85828053 0.47254196]\n",
      " [0.47254196 0.98726785]]\n",
      "\n",
      "Classe 2 :\n",
      "[[1.09097006 0.55433611]\n",
      " [0.55433611 1.04749888]]\n"
     ]
    }
   ],
   "source": [
    "print(\"\\nEstimation de alpha :\\n\")\n",
    "print(alpha_em)\n",
    "\n",
    "print(\"\\nEstimation de mu \")\n",
    "for k in range(K):\n",
    "    print(\"\\nClasse \"+str(k)+\" :\")\n",
    "    print(mu_em[k])\n",
    "\n",
    "print(\"\\nEstimation de la covariance :\")\n",
    "for k in range(K):\n",
    "    print(\"\\nClasse \"+str(k)+\" :\")\n",
    "    print(covariance_em[k])"
   ]
  }
 ],
 "metadata": {
  "kernelspec": {
   "display_name": "Python 3 (ipykernel)",
   "language": "python",
   "name": "python3"
  },
  "language_info": {
   "codemirror_mode": {
    "name": "ipython",
    "version": 3
   },
   "file_extension": ".py",
   "mimetype": "text/x-python",
   "name": "python",
   "nbconvert_exporter": "python",
   "pygments_lexer": "ipython3",
   "version": "3.7.11"
  }
 },
 "nbformat": 4,
 "nbformat_minor": 2
}
